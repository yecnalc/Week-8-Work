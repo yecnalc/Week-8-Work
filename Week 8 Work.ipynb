{
 "cells": [
  {
   "cell_type": "markdown",
   "id": "94a63ed8",
   "metadata": {},
   "source": [
    "# Algorithm Workbench"
   ]
  },
  {
   "cell_type": "markdown",
   "id": "f179b341",
   "metadata": {},
   "source": [
    "\"Write a loop that counts the number of digits that appear in the string referenced by mystring.\""
   ]
  },
  {
   "cell_type": "code",
   "execution_count": 3,
   "id": "2c3cccae",
   "metadata": {},
   "outputs": [
    {
     "name": "stdout",
     "output_type": "stream",
     "text": [
      "Number of digits in the string: 3\n"
     ]
    }
   ],
   "source": [
    "mystring = \"EastLansing678\"\n",
    "\n",
    "digit_count = 0 \n",
    "\n",
    "for char in string:\n",
    "    if char.isdigit(): \n",
    "        digit_count += 1\n",
    "\n",
    "print(\"Number of digits in the string:\", digit_count)"
   ]
  },
  {
   "cell_type": "markdown",
   "id": "46da24f9",
   "metadata": {},
   "source": [
    "\"Write a loop that counts the number of lowercase characters that appear in the string referenced by mystring.\""
   ]
  },
  {
   "cell_type": "code",
   "execution_count": 4,
   "id": "055014c4",
   "metadata": {},
   "outputs": [
    {
     "name": "stdout",
     "output_type": "stream",
     "text": [
      "Number of lowercase characters in the string: 23\n"
     ]
    }
   ],
   "source": [
    "mystring = \"My name is Clancey and I like Cats\"\n",
    "\n",
    "lowercase_count = 0\n",
    "\n",
    "for char in mystring:\n",
    "    if char.islower():  \n",
    "        lowercase_count += 1\n",
    "\n",
    "print(\"Number of lowercase characters in the string:\", lowercase_count)\n"
   ]
  },
  {
   "cell_type": "markdown",
   "id": "65b4c63a",
   "metadata": {},
   "source": [
    "I am glad I was able to clearly and correctly write these codes with no error."
   ]
  },
  {
   "cell_type": "markdown",
   "id": "c2d765e3",
   "metadata": {},
   "source": [
    "# Programming Exercises"
   ]
  },
  {
   "cell_type": "markdown",
   "id": "1a6614c2",
   "metadata": {},
   "source": [
    "\"Write a program that gets a string containing a person’s first, middle, and last names, and displays their first, middle, and last initials. For example, if the user enters John William Smith, the program should display J. W. S.\""
   ]
  },
  {
   "cell_type": "code",
   "execution_count": 5,
   "id": "a7523cbd",
   "metadata": {},
   "outputs": [
    {
     "name": "stdout",
     "output_type": "stream",
     "text": [
      "Enter your first, middle, and last names:John Deer Doe\n"
     ]
    },
    {
     "ename": "NameError",
     "evalue": "name 'display_initials' is not defined",
     "output_type": "error",
     "traceback": [
      "\u001b[1;31m---------------------------------------------------------------------------\u001b[0m",
      "\u001b[1;31mNameError\u001b[0m                                 Traceback (most recent call last)",
      "Cell \u001b[1;32mIn[5], line 20\u001b[0m\n\u001b[0;32m     14\u001b[0m     \u001b[38;5;28mprint\u001b[39m(\u001b[38;5;124m\"\u001b[39m\u001b[38;5;124mInitials:\u001b[39m\u001b[38;5;124m\"\u001b[39m, initials)\n\u001b[0;32m     17\u001b[0m full_name\u001b[38;5;241m=\u001b[39m\u001b[38;5;28minput\u001b[39m(\u001b[38;5;124m\"\u001b[39m\u001b[38;5;124mEnter your first, middle, and last names:\u001b[39m\u001b[38;5;124m\"\u001b[39m)\n\u001b[1;32m---> 20\u001b[0m display_initials(full_name)\n",
      "\u001b[1;31mNameError\u001b[0m: name 'display_initials' is not defined"
     ]
    }
   ],
   "source": [
    "def display_intials(name):\n",
    "    \n",
    "    names = name.split()\n",
    "    \n",
    "    initials = \"\"\n",
    "    \n",
    "    for part in names:\n",
    "        \n",
    "        initials += part[0].upper() + \". \"\n",
    "        \n",
    "    \n",
    "    intials = intials.strip()\n",
    "    \n",
    "    print(\"Initials:\", initials)\n",
    "    \n",
    "    \n",
    "full_name = input(\"Enter your first, middle, and last names:\")\n",
    "\n",
    "\n",
    "display_initials(full_name)\n",
    "    "
   ]
  },
  {
   "cell_type": "markdown",
   "id": "f9091ff2",
   "metadata": {},
   "source": [
    "Code began to run, yet still having an error. I am checking the textbook for guidance."
   ]
  },
  {
   "cell_type": "code",
   "execution_count": 6,
   "id": "70194328",
   "metadata": {},
   "outputs": [
    {
     "name": "stdout",
     "output_type": "stream",
     "text": [
      "Enter your first, middle, and last names: John Deer Doe\n",
      "Initials: J. D. D.\n"
     ]
    }
   ],
   "source": [
    "def display_initials(name):\n",
    "   \n",
    "    names = name.split()\n",
    "\n",
    "    initials = \"\"\n",
    "\n",
    "   \n",
    "    for part in names:\n",
    "        \n",
    "        initials += part[0].upper() + \". \"\n",
    "\n",
    "    initials = initials.strip()\n",
    "\n",
    "   \n",
    "    print(\"Initials:\", initials)\n",
    "\n",
    "\n",
    "full_name = input(\"Enter your first, middle, and last names: \")\n",
    "\n",
    "display_initials(full_name)\n"
   ]
  },
  {
   "cell_type": "markdown",
   "id": "ac20007b",
   "metadata": {},
   "source": [
    "\"Write a program that reads a string from the user containing a date in the form mm/dd/yyyy. It should print the date in the format March 12, 2018.\""
   ]
  },
  {
   "cell_type": "markdown",
   "id": "e8c8bc35",
   "metadata": {},
   "source": [
    "I am unsure on how to correctly list the months, but will try my best. I will check with the textbook and ChatGPT if I get confused."
   ]
  },
  {
   "cell_type": "code",
   "execution_count": 7,
   "id": "b9c9794a",
   "metadata": {},
   "outputs": [
    {
     "name": "stdout",
     "output_type": "stream",
     "text": [
      "Enter a date in the format mm/dd/yyyy: 09/24/2001\n",
      "September 24, 2001\n"
     ]
    }
   ],
   "source": [
    "def convert_date(date_string):\n",
    "    month, day, year = date_string.split('/')\n",
    "\n",
    "    month_names = {\n",
    "        '01': 'January', '02': 'February', '03': 'March', '04': 'April',\n",
    "        '05': 'May', '06': 'June', '07': 'July', '08': 'August',\n",
    "        '09': 'September', '10': 'October', '11': 'November', '12': 'December'}\n",
    "\n",
    "    month_name = month_names[month]\n",
    "\n",
    "   \n",
    "    print(f\"{month_name} {int(day)}, {year}\")\n",
    "\n",
    "date_input = input(\"Enter a date in the format mm/dd/yyyy: \")\n",
    "\n",
    "convert_date(date_input)\n"
   ]
  },
  {
   "cell_type": "markdown",
   "id": "efd90d65",
   "metadata": {},
   "source": [
    "Luckily I was able to figure out the correct way to list each month and its corresponding number successfully."
   ]
  },
  {
   "cell_type": "markdown",
   "id": "cbd3f469",
   "metadata": {},
   "source": [
    "\"Write a program that asks the user to enter a series of single-digit numbers with nothing separating them. The program should display the sum of all the single digit numbers in the string. For example, if the user enters 2514, the method should return 12, which is the sum of 2, 5, 1, and 4.\""
   ]
  },
  {
   "cell_type": "code",
   "execution_count": 8,
   "id": "9a98f2d9",
   "metadata": {},
   "outputs": [
    {
     "name": "stdout",
     "output_type": "stream",
     "text": [
      "Enter a series of single digit numbers with no spaces: 1234\n"
     ]
    },
    {
     "ename": "NameError",
     "evalue": "name 'result' is not defined",
     "output_type": "error",
     "traceback": [
      "\u001b[1;31m---------------------------------------------------------------------------\u001b[0m",
      "\u001b[1;31mNameError\u001b[0m                                 Traceback (most recent call last)",
      "Cell \u001b[1;32mIn[8], line 13\u001b[0m\n\u001b[0;32m      9\u001b[0m             total_sum \u001b[38;5;241m+\u001b[39m\u001b[38;5;241m=\u001b[39m \u001b[38;5;28mint\u001b[39m(char)\n\u001b[0;32m     12\u001b[0m number_string \u001b[38;5;241m=\u001b[39m \u001b[38;5;28minput\u001b[39m(\u001b[38;5;124m\"\u001b[39m\u001b[38;5;124mEnter a series of single digit numbers with no spaces: \u001b[39m\u001b[38;5;124m\"\u001b[39m)\n\u001b[1;32m---> 13\u001b[0m \u001b[38;5;28mprint\u001b[39m(\u001b[38;5;124m\"\u001b[39m\u001b[38;5;124mThe sum of all single-digit numbers in the string is:\u001b[39m\u001b[38;5;124m\"\u001b[39m, result)\n",
      "\u001b[1;31mNameError\u001b[0m: name 'result' is not defined"
     ]
    }
   ],
   "source": [
    "def sum_single_digitd(number_string):\n",
    "    \n",
    "    total_sum = 0\n",
    "    \n",
    "    for char in number_string:\n",
    "        \n",
    "        if char.isdigit():\n",
    "            \n",
    "            total_sum += int(char)\n",
    "        \n",
    "\n",
    "number_string = input(\"Enter a series of single digit numbers with no spaces: \")\n",
    "print(\"The sum of all single-digit numbers in the string is:\", result)"
   ]
  },
  {
   "cell_type": "markdown",
   "id": "82014ffb",
   "metadata": {},
   "source": [
    "Looking at the error, I had forgotten to define \"result\""
   ]
  },
  {
   "cell_type": "code",
   "execution_count": 10,
   "id": "60425ac7",
   "metadata": {},
   "outputs": [
    {
     "name": "stdout",
     "output_type": "stream",
     "text": [
      "Enter a series of single-digit numbers with no separation: 123456789\n",
      "The sum of all single-digit numbers in the string is: 45\n"
     ]
    }
   ],
   "source": [
    "def sum_single_digits(string):\n",
    "    total = 0\n",
    "    for char in string:\n",
    "        if char.isdigit():  \n",
    "            total += int(char)  \n",
    "    return total\n",
    "\n",
    "user_input = input(\"Enter a series of single-digit numbers with no separation: \")\n",
    "result = sum_single_digits(user_input)\n",
    "print(\"The sum of all single-digit numbers in the string is:\", result)\n"
   ]
  },
  {
   "cell_type": "markdown",
   "id": "00402c70",
   "metadata": {},
   "source": [
    "\"Write a program with a function that accepts a string as an argument and returns a copy of the string with the first character of each sentence capitalized. For instance, if the argument is “hello. my name is Joe. what is your name?” the function should return the string  The program should let the user enter a string and then pass it to the function. The modified string should be displayed.\""
   ]
  },
  {
   "cell_type": "markdown",
   "id": "eff13aca",
   "metadata": {},
   "source": [
    "I am a bit hesitant about this problem, I am unsure where to start."
   ]
  },
  {
   "cell_type": "code",
   "execution_count": 12,
   "id": "df481887",
   "metadata": {},
   "outputs": [
    {
     "name": "stdout",
     "output_type": "stream",
     "text": [
      "Enter a string with multiple sentences: i love my cat. she is very fat.\n"
     ]
    },
    {
     "ename": "NameError",
     "evalue": "name 'setences' is not defined",
     "output_type": "error",
     "traceback": [
      "\u001b[1;31m---------------------------------------------------------------------------\u001b[0m",
      "\u001b[1;31mNameError\u001b[0m                                 Traceback (most recent call last)",
      "Cell \u001b[1;32mIn[12], line 11\u001b[0m\n\u001b[0;32m      7\u001b[0m     \u001b[38;5;28;01mreturn\u001b[39;00m modified_text\n\u001b[0;32m      9\u001b[0m user_input \u001b[38;5;241m=\u001b[39m \u001b[38;5;28minput\u001b[39m(\u001b[38;5;124m\"\u001b[39m\u001b[38;5;124mEnter a string with multiple sentences: \u001b[39m\u001b[38;5;124m\"\u001b[39m)\n\u001b[1;32m---> 11\u001b[0m modified_string \u001b[38;5;241m=\u001b[39m capitalize_sentences(user_input)\n\u001b[0;32m     13\u001b[0m \u001b[38;5;28mprint\u001b[39m(\u001b[38;5;124m\"\u001b[39m\u001b[38;5;124mModified string with| capitalized first characters of each sentence:\u001b[39m\u001b[38;5;124m\"\u001b[39m)\n\u001b[0;32m     15\u001b[0m \u001b[38;5;28mprint\u001b[39m(modified_string)\n",
      "Cell \u001b[1;32mIn[12], line 4\u001b[0m, in \u001b[0;36mcapitalize_sentences\u001b[1;34m(text)\u001b[0m\n\u001b[0;32m      1\u001b[0m \u001b[38;5;28;01mdef\u001b[39;00m \u001b[38;5;21mcapitalize_sentences\u001b[39m(text):\n\u001b[0;32m      2\u001b[0m     sentences \u001b[38;5;241m=\u001b[39m text\u001b[38;5;241m.\u001b[39msplit(\u001b[38;5;124m'\u001b[39m\u001b[38;5;124m. \u001b[39m\u001b[38;5;124m'\u001b[39m)\n\u001b[1;32m----> 4\u001b[0m     capitalized_sentences \u001b[38;5;241m=\u001b[39m [sentence\u001b[38;5;241m.\u001b[39mcapitalize() \u001b[38;5;28;01mfor\u001b[39;00m sentence \u001b[38;5;129;01min\u001b[39;00m setences]\n\u001b[0;32m      5\u001b[0m     modified_text \u001b[38;5;241m=\u001b[39m \u001b[38;5;124m'\u001b[39m\u001b[38;5;124m. \u001b[39m\u001b[38;5;124m'\u001b[39m\u001b[38;5;241m.\u001b[39mjoin(capitalized_sentences)\n\u001b[0;32m      7\u001b[0m     \u001b[38;5;28;01mreturn\u001b[39;00m modified_text\n",
      "\u001b[1;31mNameError\u001b[0m: name 'setences' is not defined"
     ]
    }
   ],
   "source": [
    "def capitalize_sentences(text):\n",
    "    sentences = text.split('. ')\n",
    "    \n",
    "    capitalized_sentences = [sentence.capitalize() for sentence in setences]\n",
    "    modified_text = '. '.join(capitalized_sentences)\n",
    "    \n",
    "    return modified_text\n",
    "\n",
    "user_input = input(\"Enter a string with multiple sentences: \")\n",
    "\n",
    "modified_string = capitalize_sentences(user_input)\n",
    "\n",
    "print(\"Modified string with| capitalized first characters of each sentence:\")\n",
    "\n",
    "print(modified_string)"
   ]
  },
  {
   "cell_type": "markdown",
   "id": "bedda5a9",
   "metadata": {},
   "source": [
    "I am unsure where the error is, so I am going to input the code again."
   ]
  }
 ],
 "metadata": {
  "kernelspec": {
   "display_name": "Python 3 (ipykernel)",
   "language": "python",
   "name": "python3"
  },
  "language_info": {
   "codemirror_mode": {
    "name": "ipython",
    "version": 3
   },
   "file_extension": ".py",
   "mimetype": "text/x-python",
   "name": "python",
   "nbconvert_exporter": "python",
   "pygments_lexer": "ipython3",
   "version": "3.11.5"
  }
 },
 "nbformat": 4,
 "nbformat_minor": 5
}
